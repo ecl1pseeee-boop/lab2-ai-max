{
 "cells": [
  {
   "cell_type": "code",
   "execution_count": null,
   "id": "7484df51-b002-414c-ae42-75a2df57c78d",
   "metadata": {},
   "outputs": [],
   "source": [
    "!pip install pandas"
   ]
  },
  {
   "cell_type": "markdown",
   "id": "af640b9d-598b-4f0b-ae81-785f11821961",
   "metadata": {},
   "source": [
    "Удаление пропусков в файле"
   ]
  },
  {
   "cell_type": "code",
   "execution_count": null,
   "id": "29fb3f48-3266-4ff4-8e3a-991d9a486670",
   "metadata": {
    "tags": []
   },
   "outputs": [],
   "source": [
    "import pandas as pd\n",
    "import numpy as np\n",
    "\n",
    "df = pd.read_csv('titanic.csv', sep = ',')\n",
    "df['Age'] = df['Age'].fillna(df['Age'].median())\n",
    "df.to_csv('titanic_filled.csv', index=False)\n",
    "\n",
    "\n",
    "brainFrame = pd.read_csv('brainsize.txt', delimiter='\\t')\n",
    "brainFrame['Weight'] = brainFrame['Weight'].fillna(brainFrame['Weight'].median())\n",
    "brainFrame['Height'] = brainFrame['Height'].fillna(brainFrame['Height'].median())\n",
    "brainFrame.to_csv('brainsize_filled.txt', index=False)"
   ]
  }
 ],
 "metadata": {
  "kernelspec": {
   "display_name": "Python 3 (ipykernel)",
   "language": "python",
   "name": "python3"
  },
  "language_info": {
   "codemirror_mode": {
    "name": "ipython",
    "version": 3
   },
   "file_extension": ".py",
   "mimetype": "text/x-python",
   "name": "python",
   "nbconvert_exporter": "python",
   "pygments_lexer": "ipython3",
   "version": "3.12.6"
  }
 },
 "nbformat": 4,
 "nbformat_minor": 5
}
